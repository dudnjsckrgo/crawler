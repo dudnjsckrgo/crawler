{
 "metadata": {
  "language_info": {
   "codemirror_mode": {
    "name": "ipython",
    "version": 3
   },
   "file_extension": ".py",
   "mimetype": "text/x-python",
   "name": "python",
   "nbconvert_exporter": "python",
   "pygments_lexer": "ipython3",
   "version": "3.7.9-final"
  },
  "orig_nbformat": 2,
  "kernelspec": {
   "name": "python37964bitbigconda763582a213e34dc0ba9953047397ad13",
   "display_name": "Python 3.7.9 64-bit ('big': conda)"
  }
 },
 "nbformat": 4,
 "nbformat_minor": 2,
 "cells": [
  {
   "cell_type": "code",
   "execution_count": 2,
   "metadata": {},
   "outputs": [],
   "source": [
    "from selenium import webdriver\n",
    "from time import sleep\n",
    "from selenium.webdriver.common.keys import Keys\n",
    "from selenium.webdriver import ActionChains\n",
    "# import pyautogui\n",
    "from selenium.webdriver.support.ui import WebDriverWait\n",
    "from selenium.webdriver.support import expected_conditions\n",
    "from selenium.webdriver.common.by import By"
   ]
  },
  {
   "cell_type": "code",
   "execution_count": 3,
   "metadata": {},
   "outputs": [
    {
     "output_type": "error",
     "ename": "WebDriverException",
     "evalue": "Message: 'chromedriver' executable needs to be in PATH. Please see https://sites.google.com/a/chromium.org/chromedriver/home\n",
     "traceback": [
      "\u001b[0;31m---------------------------------------------------------------------------\u001b[0m",
      "\u001b[0;31mFileNotFoundError\u001b[0m                         Traceback (most recent call last)",
      "\u001b[0;32m~/anaconda3/envs/big/lib/python3.7/site-packages/selenium/webdriver/common/service.py\u001b[0m in \u001b[0;36mstart\u001b[0;34m(self)\u001b[0m\n\u001b[1;32m     75\u001b[0m                                             \u001b[0mstderr\u001b[0m\u001b[0;34m=\u001b[0m\u001b[0mself\u001b[0m\u001b[0;34m.\u001b[0m\u001b[0mlog_file\u001b[0m\u001b[0;34m,\u001b[0m\u001b[0;34m\u001b[0m\u001b[0;34m\u001b[0m\u001b[0m\n\u001b[0;32m---> 76\u001b[0;31m                                             stdin=PIPE)\n\u001b[0m\u001b[1;32m     77\u001b[0m         \u001b[0;32mexcept\u001b[0m \u001b[0mTypeError\u001b[0m\u001b[0;34m:\u001b[0m\u001b[0;34m\u001b[0m\u001b[0;34m\u001b[0m\u001b[0m\n",
      "\u001b[0;32m~/anaconda3/envs/big/lib/python3.7/subprocess.py\u001b[0m in \u001b[0;36m__init__\u001b[0;34m(self, args, bufsize, executable, stdin, stdout, stderr, preexec_fn, close_fds, shell, cwd, env, universal_newlines, startupinfo, creationflags, restore_signals, start_new_session, pass_fds, encoding, errors, text)\u001b[0m\n\u001b[1;32m    799\u001b[0m                                 \u001b[0merrread\u001b[0m\u001b[0;34m,\u001b[0m \u001b[0merrwrite\u001b[0m\u001b[0;34m,\u001b[0m\u001b[0;34m\u001b[0m\u001b[0;34m\u001b[0m\u001b[0m\n\u001b[0;32m--> 800\u001b[0;31m                                 restore_signals, start_new_session)\n\u001b[0m\u001b[1;32m    801\u001b[0m         \u001b[0;32mexcept\u001b[0m\u001b[0;34m:\u001b[0m\u001b[0;34m\u001b[0m\u001b[0;34m\u001b[0m\u001b[0m\n",
      "\u001b[0;32m~/anaconda3/envs/big/lib/python3.7/subprocess.py\u001b[0m in \u001b[0;36m_execute_child\u001b[0;34m(self, args, executable, preexec_fn, close_fds, pass_fds, cwd, env, startupinfo, creationflags, shell, p2cread, p2cwrite, c2pread, c2pwrite, errread, errwrite, restore_signals, start_new_session)\u001b[0m\n\u001b[1;32m   1550\u001b[0m                             \u001b[0merr_msg\u001b[0m \u001b[0;34m+=\u001b[0m \u001b[0;34m': '\u001b[0m \u001b[0;34m+\u001b[0m \u001b[0mrepr\u001b[0m\u001b[0;34m(\u001b[0m\u001b[0merr_filename\u001b[0m\u001b[0;34m)\u001b[0m\u001b[0;34m\u001b[0m\u001b[0;34m\u001b[0m\u001b[0m\n\u001b[0;32m-> 1551\u001b[0;31m                     \u001b[0;32mraise\u001b[0m \u001b[0mchild_exception_type\u001b[0m\u001b[0;34m(\u001b[0m\u001b[0merrno_num\u001b[0m\u001b[0;34m,\u001b[0m \u001b[0merr_msg\u001b[0m\u001b[0;34m,\u001b[0m \u001b[0merr_filename\u001b[0m\u001b[0;34m)\u001b[0m\u001b[0;34m\u001b[0m\u001b[0;34m\u001b[0m\u001b[0m\n\u001b[0m\u001b[1;32m   1552\u001b[0m                 \u001b[0;32mraise\u001b[0m \u001b[0mchild_exception_type\u001b[0m\u001b[0;34m(\u001b[0m\u001b[0merr_msg\u001b[0m\u001b[0;34m)\u001b[0m\u001b[0;34m\u001b[0m\u001b[0;34m\u001b[0m\u001b[0m\n",
      "\u001b[0;31mFileNotFoundError\u001b[0m: [Errno 2] No such file or directory: './chromedriver': './chromedriver'",
      "\nDuring handling of the above exception, another exception occurred:\n",
      "\u001b[0;31mWebDriverException\u001b[0m                        Traceback (most recent call last)",
      "\u001b[0;32m<ipython-input-3-c2e9cad52997>\u001b[0m in \u001b[0;36m<module>\u001b[0;34m\u001b[0m\n\u001b[0;32m----> 1\u001b[0;31m \u001b[0mdriver\u001b[0m \u001b[0;34m=\u001b[0m \u001b[0mwebdriver\u001b[0m\u001b[0;34m.\u001b[0m\u001b[0mChrome\u001b[0m\u001b[0;34m(\u001b[0m\u001b[0;34m'./chromedriver'\u001b[0m\u001b[0;34m)\u001b[0m\u001b[0;34m\u001b[0m\u001b[0;34m\u001b[0m\u001b[0m\n\u001b[0m",
      "\u001b[0;32m~/anaconda3/envs/big/lib/python3.7/site-packages/selenium/webdriver/chrome/webdriver.py\u001b[0m in \u001b[0;36m__init__\u001b[0;34m(self, executable_path, port, options, service_args, desired_capabilities, service_log_path, chrome_options, keep_alive)\u001b[0m\n\u001b[1;32m     71\u001b[0m             \u001b[0mservice_args\u001b[0m\u001b[0;34m=\u001b[0m\u001b[0mservice_args\u001b[0m\u001b[0;34m,\u001b[0m\u001b[0;34m\u001b[0m\u001b[0;34m\u001b[0m\u001b[0m\n\u001b[1;32m     72\u001b[0m             log_path=service_log_path)\n\u001b[0;32m---> 73\u001b[0;31m         \u001b[0mself\u001b[0m\u001b[0;34m.\u001b[0m\u001b[0mservice\u001b[0m\u001b[0;34m.\u001b[0m\u001b[0mstart\u001b[0m\u001b[0;34m(\u001b[0m\u001b[0;34m)\u001b[0m\u001b[0;34m\u001b[0m\u001b[0;34m\u001b[0m\u001b[0m\n\u001b[0m\u001b[1;32m     74\u001b[0m \u001b[0;34m\u001b[0m\u001b[0m\n\u001b[1;32m     75\u001b[0m         \u001b[0;32mtry\u001b[0m\u001b[0;34m:\u001b[0m\u001b[0;34m\u001b[0m\u001b[0;34m\u001b[0m\u001b[0m\n",
      "\u001b[0;32m~/anaconda3/envs/big/lib/python3.7/site-packages/selenium/webdriver/common/service.py\u001b[0m in \u001b[0;36mstart\u001b[0;34m(self)\u001b[0m\n\u001b[1;32m     81\u001b[0m                 raise WebDriverException(\n\u001b[1;32m     82\u001b[0m                     \"'%s' executable needs to be in PATH. %s\" % (\n\u001b[0;32m---> 83\u001b[0;31m                         os.path.basename(self.path), self.start_error_message)\n\u001b[0m\u001b[1;32m     84\u001b[0m                 )\n\u001b[1;32m     85\u001b[0m             \u001b[0;32melif\u001b[0m \u001b[0merr\u001b[0m\u001b[0;34m.\u001b[0m\u001b[0merrno\u001b[0m \u001b[0;34m==\u001b[0m \u001b[0merrno\u001b[0m\u001b[0;34m.\u001b[0m\u001b[0mEACCES\u001b[0m\u001b[0;34m:\u001b[0m\u001b[0;34m\u001b[0m\u001b[0;34m\u001b[0m\u001b[0m\n",
      "\u001b[0;31mWebDriverException\u001b[0m: Message: 'chromedriver' executable needs to be in PATH. Please see https://sites.google.com/a/chromium.org/chromedriver/home\n"
     ]
    }
   ],
   "source": [
    "driver = webdriver.Chrome('./chromedriver')"
   ]
  },
  {
   "cell_type": "code",
   "execution_count": 4,
   "metadata": {},
   "outputs": [],
   "source": [
    "driver.get('https://en.dict.naver.com/#/main')"
   ]
  },
  {
   "cell_type": "code",
   "execution_count": 5,
   "metadata": {},
   "outputs": [],
   "source": [
    "delay = 1000\n",
    "WebDriverWait(driver, delay).until(expected_conditions.presence_of_element_located((By.CSS_SELECTOR, '#ac_input')))\n",
    "x=driver.find_element_by_css_selector('#ac_input')\n",
    "webdriver.ActionChains(driver).move_to_element(x).click(x).send_keys('forget', Keys.ENTER).perform()"
   ]
  },
  {
   "cell_type": "code",
   "execution_count": 6,
   "metadata": {},
   "outputs": [],
   "source": [
    "delay = 1000\n",
    "WebDriverWait(driver, delay).until(expected_conditions.presence_of_element_located((By.CSS_SELECTOR, '#searchPage_entry > div > div:nth-child(1) > div > a > strong')))\n",
    "x = driver.find_element_by_css_selector('#searchPage_entry > div > div:nth-child(1) > div > a > strong')\n",
    "webdriver.ActionChains(driver).move_to_element(x).click(x).perform()"
   ]
  },
  {
   "cell_type": "code",
   "execution_count": 7,
   "metadata": {
    "tags": []
   },
   "outputs": [
    {
     "output_type": "stream",
     "name": "stdout",
     "text": [
      "[<selenium.webdriver.remote.webelement.WebElement (session=\"26d07107a5a96c2e5bded065e400d289\", element=\"362c69b3-1d3a-49e5-9c6d-a23554e69262\")>, <selenium.webdriver.remote.webelement.WebElement (session=\"26d07107a5a96c2e5bded065e400d289\", element=\"8e268eb6-4b56-40a5-b716-b00cc98bc7f0\")>]\n동사\n타동사\n"
     ]
    }
   ],
   "source": [
    "proNs = driver.find_elements_by_css_selector('em.part_speech')\n",
    "print(proNs)\n",
    "for proN in proNs:\n",
    "    proN = proN.get_attribute('innerHTML')\n",
    "    proN = proN.strip('\\n\\t')\n",
    "    print(proN)\n"
   ]
  },
  {
   "cell_type": "code",
   "execution_count": 8,
   "metadata": {},
   "outputs": [
    {
     "output_type": "stream",
     "name": "stdout",
     "text": [
      "동사\n1. (과거의 일·전에 알고 있던 것을) 잊다\n2. (할 일·살 것·가져올 것 등을) 잊어버리다[잊고 안 하다/사다/가져오다 등]\n3. (일부러) 잊다[생각을 안 하다]\n4. (가능성을) 잊다[체념하다]\n5. 정신없는 짓을 하다\n"
     ]
    }
   ],
   "source": [
    "import re\n",
    "meanings = driver.find_elements_by_css_selector('span.mean')\n",
    "nums = driver.find_elements_by_css_selector('#content > div.article._article.is-closed > div.section.section_mean._section_mean._data_index_1 > div > div.mean_tray > ul > li > div.mean_desc > span')\n",
    "idx =0\n",
    "for num, mean in zip(nums, meanings):\n",
    "    mean = mean.get_attribute('innerHTML')\n",
    "    mean = mean.strip()\n",
    "    mean1=re.sub(r'(\\<.*?\\>)', '', mean)\n",
    "    numtxt = num.get_attribute('innerHTML')\n",
    "    numtxt = numtxt.strip()\n",
    "    if numtxt == '1.':\n",
    "        proN = proNs[idx].get_attribute('innerHTML')\n",
    "        idx+=1\n",
    "        proN = proN.strip('\\n\\t')\n",
    "        print(proN)\n",
    "    print(numtxt, mean1)"
   ]
  },
  {
   "cell_type": "code",
   "execution_count": 9,
   "metadata": {},
   "outputs": [
    {
     "output_type": "stream",
     "name": "stdout",
     "text": [
      "[<selenium.webdriver.remote.webelement.WebElement (session=\"26d07107a5a96c2e5bded065e400d289\", element=\"06ff0a99-be85-4ca9-a64c-cdf96b279942\")>, <selenium.webdriver.remote.webelement.WebElement (session=\"26d07107a5a96c2e5bded065e400d289\", element=\"a6fde0d4-a687-4fec-afea-a0ef4754e378\")>, <selenium.webdriver.remote.webelement.WebElement (session=\"26d07107a5a96c2e5bded065e400d289\", element=\"91f04029-0b26-4759-a55d-613e7a095f3d\")>, <selenium.webdriver.remote.webelement.WebElement (session=\"26d07107a5a96c2e5bded065e400d289\", element=\"b8a75ea9-b656-477b-a6a4-4909aac53d0a\")>, <selenium.webdriver.remote.webelement.WebElement (session=\"26d07107a5a96c2e5bded065e400d289\", element=\"0ecfac36-c82c-424a-8ffd-bef48f61ef8b\")>]\n"
     ]
    }
   ],
   "source": [
    "print(meanings)"
   ]
  },
  {
   "cell_type": "code",
   "execution_count": 13,
   "metadata": {},
   "outputs": [
    {
     "output_type": "stream",
     "name": "stdout",
     "text": [
      "\n\t\t\t\t\t\t\t\t\t\t<!-- 正常的编号显示方式 -->\n\t\t\t\t\t\t\t\t\t\t\t <!-- 有一个或二个释义等级 -->\n\t\t\t\t\t\t\t\t\t\t\t\t\t\t<span class=\"num a\">1.</span>\n\t\t\t\t\t\t\t\t\t\t<div class=\"cont\">\n\t\t\t\t\t\t\t\t\t\t\t<!-- 显示collocate_content&mean_property ..... BTS:DICNGDSUS-34029 -->\n\t\t\t\t\t\t\t\t\t\t\t<span class=\"mean_addition\" lang=\"en\">[보통 진행형으로는 쓰이지 않음]</span>\n\t\t\t\t\t\t\t\t\t\t\t<!-- 只有英语词典这样， 如果上边任何一个有值，释义前面需要加换行 -->\n\t\t\t\t\t\t\t\t\t\t\t\t<br>\n\t\t\t\t\t\t\t\t\t\t\t<span class=\"mean\" lang=\"en\" style=\"-webkit-tap-highlight-color: rgba(0,0,0,0)\">(과거의 일<span data-type=\"ore\" data-lang=\"en\">·</span>전에 알고 있던 것을) 잊다</span>\n\t\t\t\t\t\t\t\t\t\t\t\n\t\t\t\t\t\t\t\t\t\t</div>\n\t\t\t\t\t\t\t\t\t\n\n\t\t\t\t\t\t\t\t\t\t<!-- 正常的编号显示方式 -->\n\t\t\t\t\t\t\t\t\t\t\t <!-- 有一个或二个释义等级 -->\n\t\t\t\t\t\t\t\t\t\t\t\t\t\t<span class=\"num a\">2.</span>\n\t\t\t\t\t\t\t\t\t\t<div class=\"cont\">\n\t\t\t\t\t\t\t\t\t\t\t<!-- 显示collocate_content&mean_property ..... BTS:DICNGDSUS-34029 -->\n\t\t\t\t\t\t\t\t\t\t\t<!-- 只有英语词典这样， 如果上边任何一个有值，释义前面需要加换行 -->\n\t\t\t\t\t\t\t\t\t\t\t<span class=\"mean\" lang=\"en\" style=\"-webkit-tap-highlight-color: rgba(0,0,0,0)\">(할 일<span data-type=\"ore\" data-lang=\"en\">·</span>살 것<span data-type=\"ore\" data-lang=\"en\">·</span>가져올 것 등을) 잊어버리다[잊고 안 하다<span data-type=\"ore\" data-lang=\"en\">/</span>사다<span data-type=\"ore\" data-lang=\"en\">/</span>가져오다 등]</span>\n\t\t\t\t\t\t\t\t\t\t\t\n\t\t\t\t\t\t\t\t\t\t</div>\n\t\t\t\t\t\t\t\t\t\n\n\t\t\t\t\t\t\t\t\t\t<!-- 正常的编号显示方式 -->\n\t\t\t\t\t\t\t\t\t\t\t <!-- 有一个或二个释义等级 -->\n\t\t\t\t\t\t\t\t\t\t\t\t\t\t<span class=\"num a\">3.</span>\n\t\t\t\t\t\t\t\t\t\t<div class=\"cont\">\n\t\t\t\t\t\t\t\t\t\t\t<!-- 显示collocate_content&mean_property ..... BTS:DICNGDSUS-34029 -->\n\t\t\t\t\t\t\t\t\t\t\t<!-- 只有英语词典这样， 如果上边任何一个有值，释义前面需要加换行 -->\n\t\t\t\t\t\t\t\t\t\t\t<span class=\"mean\" lang=\"en\" style=\"-webkit-tap-highlight-color: rgba(0,0,0,0)\">(일부러) 잊다[생각을 안 하다]</span>\n\t\t\t\t\t\t\t\t\t\t\t\n\t\t\t\t\t\t\t\t\t\t</div>\n\t\t\t\t\t\t\t\t\t\n\n\t\t\t\t\t\t\t\t\t\t<!-- 正常的编号显示方式 -->\n\t\t\t\t\t\t\t\t\t\t\t <!-- 有一个或二个释义等级 -->\n\t\t\t\t\t\t\t\t\t\t\t\t\t\t<span class=\"num a\">4.</span>\n\t\t\t\t\t\t\t\t\t\t<div class=\"cont\">\n\t\t\t\t\t\t\t\t\t\t\t<!-- 显示collocate_content&mean_property ..... BTS:DICNGDSUS-34029 -->\n\t\t\t\t\t\t\t\t\t\t\t<!-- 只有英语词典这样， 如果上边任何一个有值，释义前面需要加换行 -->\n\t\t\t\t\t\t\t\t\t\t\t<span class=\"mean\" lang=\"en\" style=\"-webkit-tap-highlight-color: rgba(0,0,0,0)\">(가능성을) 잊다[체념하다]</span>\n\t\t\t\t\t\t\t\t\t\t\t\n\t\t\t\t\t\t\t\t\t\t</div>\n\t\t\t\t\t\t\t\t\t\n\n\t\t\t\t\t\t\t\t\t\t<!-- 正常的编号显示方式 -->\n\t\t\t\t\t\t\t\t\t\t\t <!-- 有一个或二个释义等级 -->\n\t\t\t\t\t\t\t\t\t\t\t\t\t\t<span class=\"num a\">5.</span>\n\t\t\t\t\t\t\t\t\t\t<div class=\"cont\">\n\t\t\t\t\t\t\t\t\t\t\t\t<em class=\"part_speech\" lang=\"en\">타동사</em>\n\t\t\t\t\t\t\t\t\t\t\t<!-- 显示collocate_content&mean_property ..... BTS:DICNGDSUS-34029 -->\n\t\t\t\t\t\t\t\t\t\t\t<span class=\"mean_addition\" lang=\"en\">[VN]</span>\n\t\t\t\t\t\t\t\t\t\t\t<!-- 只有英语词典这样， 如果上边任何一个有值，释义前面需要加换行 -->\n\t\t\t\t\t\t\t\t\t\t\t\t<br>\n\t\t\t\t\t\t\t\t\t\t\t<span class=\"mean\" lang=\"en\" style=\"-webkit-tap-highlight-color: rgba(0,0,0,0)\">정신없는 짓을 하다</span>\n\t\t\t\t\t\t\t\t\t\t\t\n\t\t\t\t\t\t\t\t\t\t</div>\n\t\t\t\t\t\t\t\t\t\n"
     ]
    }
   ],
   "source": [
    "meanlist = driver.find_elements_by_css_selector('div.mean_desc')\n",
    "for doc in meanlist:\n",
    "    x=doc.get_attribute('innerHTML')\n",
    "    print(x)\n",
    " "
   ]
  },
  {
   "cell_type": "code",
   "execution_count": 1,
   "metadata": {},
   "outputs": [
    {
     "output_type": "error",
     "ename": "NameError",
     "evalue": "name 'driver' is not defined",
     "traceback": [
      "\u001b[0;31m---------------------------------------------------------------------------\u001b[0m",
      "\u001b[0;31mNameError\u001b[0m                                 Traceback (most recent call last)",
      "\u001b[0;32m<ipython-input-1-878e049c6fb2>\u001b[0m in \u001b[0;36m<module>\u001b[0;34m\u001b[0m\n\u001b[0;32m----> 1\u001b[0;31m \u001b[0mmeanlist\u001b[0m \u001b[0;34m=\u001b[0m \u001b[0mdriver\u001b[0m\u001b[0;34m.\u001b[0m\u001b[0mfind_elements_by_css_selector\u001b[0m\u001b[0;34m(\u001b[0m\u001b[0;34m'div.mean_desc'\u001b[0m\u001b[0;34m)\u001b[0m\u001b[0;34m\u001b[0m\u001b[0;34m\u001b[0m\u001b[0m\n\u001b[0m\u001b[1;32m      2\u001b[0m \u001b[0;32mfor\u001b[0m \u001b[0mdoc\u001b[0m \u001b[0;32min\u001b[0m \u001b[0mmeanlist\u001b[0m\u001b[0;34m:\u001b[0m\u001b[0;34m\u001b[0m\u001b[0;34m\u001b[0m\u001b[0m\n\u001b[1;32m      3\u001b[0m     \u001b[0;31m# x=doc.get_attribute('innerHTML')\u001b[0m\u001b[0;34m\u001b[0m\u001b[0;34m\u001b[0m\u001b[0;34m\u001b[0m\u001b[0m\n\u001b[1;32m      4\u001b[0m     \u001b[0;31m# print(type(doc))\u001b[0m\u001b[0;34m\u001b[0m\u001b[0;34m\u001b[0m\u001b[0;34m\u001b[0m\u001b[0m\n\u001b[1;32m      5\u001b[0m \u001b[0;34m\u001b[0m\u001b[0m\n",
      "\u001b[0;31mNameError\u001b[0m: name 'driver' is not defined"
     ]
    }
   ],
   "source": [
    "meanlist = driver.find_elements_by_css_selector('div.mean_desc')\n",
    "for doc in meanlist:\n",
    "    # x=doc.get_attribute('innerHTML')\n",
    "    # print(type(doc))\n",
    "    \n",
    "    x=doc.find_elements_by_css_selector('span.mean_addition')\n",
    "    for i in x:\n",
    "        parentsi = i.parent\n",
    "        print(type(i))\n",
    "        # e=parentsi.find_element(By.CSS_SELECTOR,'div.mean_desc > span')\n",
    "        # f=e.get_attribute('innerHTML')\n",
    "        # print(f)\n",
    "        # # print(e)\n",
    "        # y = i.get_attribute('innerHTML')\n",
    "        # print(y)"
   ]
  },
  {
   "cell_type": "code",
   "execution_count": null,
   "metadata": {},
   "outputs": [],
   "source": []
  }
 ]
}