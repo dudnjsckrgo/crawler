{
 "metadata": {
  "language_info": {
   "codemirror_mode": {
    "name": "ipython",
    "version": 3
   },
   "file_extension": ".py",
   "mimetype": "text/x-python",
   "name": "python",
   "nbconvert_exporter": "python",
   "pygments_lexer": "ipython3",
   "version": "3.7.9-final"
  },
  "orig_nbformat": 2,
  "kernelspec": {
   "name": "python37964bitbigconda763582a213e34dc0ba9953047397ad13",
   "display_name": "Python 3.7.9 64-bit ('big': conda)"
  }
 },
 "nbformat": 4,
 "nbformat_minor": 2,
 "cells": [
  {
   "cell_type": "code",
   "execution_count": 2,
   "metadata": {},
   "outputs": [],
   "source": [
    "from selenium import webdriver\n",
    "from time import sleep\n",
    "from selenium.webdriver.common.keys import Keys\n",
    "from selenium.webdriver import ActionChains\n",
    "# import pyautogui\n",
    "from selenium.webdriver.support.ui import WebDriverWait\n",
    "from selenium.webdriver.support import expected_conditions\n",
    "from selenium.webdriver.common.by import By"
   ]
  },
  {
   "cell_type": "code",
   "execution_count": 3,
   "metadata": {},
   "outputs": [],
   "source": [
    "driver = webdriver.Chrome('./chromedriver')"
   ]
  },
  {
   "cell_type": "code",
   "execution_count": 4,
   "metadata": {},
   "outputs": [],
   "source": [
    "driver.get('https://en.dict.naver.com/#/main')"
   ]
  },
  {
   "cell_type": "code",
   "execution_count": 5,
   "metadata": {},
   "outputs": [],
   "source": [
    "delay = 1000\n",
    "WebDriverWait(driver, delay).until(expected_conditions.presence_of_element_located((By.CSS_SELECTOR, '#ac_input')))\n",
    "x=driver.find_element_by_css_selector('#ac_input')\n",
    "webdriver.ActionChains(driver).move_to_element(x).click(x).send_keys('forget', Keys.ENTER).perform()"
   ]
  },
  {
   "cell_type": "code",
   "execution_count": 6,
   "metadata": {},
   "outputs": [],
   "source": [
    "delay = 1000\n",
    "WebDriverWait(driver, delay).until(expected_conditions.presence_of_element_located((By.CSS_SELECTOR, '#searchPage_entry > div > div:nth-child(1) > div > a > strong')))\n",
    "x = driver.find_element_by_css_selector('#searchPage_entry > div > div:nth-child(1) > div > a > strong')\n",
    "webdriver.ActionChains(driver).move_to_element(x).click(x).perform()"
   ]
  },
  {
   "cell_type": "code",
   "execution_count": 7,
   "metadata": {
    "tags": []
   },
   "outputs": [
    {
     "output_type": "stream",
     "name": "stdout",
     "text": [
      "[<selenium.webdriver.remote.webelement.WebElement (session=\"26d07107a5a96c2e5bded065e400d289\", element=\"362c69b3-1d3a-49e5-9c6d-a23554e69262\")>, <selenium.webdriver.remote.webelement.WebElement (session=\"26d07107a5a96c2e5bded065e400d289\", element=\"8e268eb6-4b56-40a5-b716-b00cc98bc7f0\")>]\n동사\n타동사\n"
     ]
    }
   ],
   "source": [
    "proNs = driver.find_elements_by_css_selector('em.part_speech')\n",
    "print(proNs)\n",
    "for proN in proNs:\n",
    "    proN = proN.get_attribute('innerHTML')\n",
    "    proN = proN.strip('\\n\\t')\n",
    "    print(proN)\n"
   ]
  },
  {
   "cell_type": "code",
   "execution_count": 8,
   "metadata": {},
   "outputs": [
    {
     "output_type": "stream",
     "name": "stdout",
     "text": [
      "동사\n1. (과거의 일·전에 알고 있던 것을) 잊다\n2. (할 일·살 것·가져올 것 등을) 잊어버리다[잊고 안 하다/사다/가져오다 등]\n3. (일부러) 잊다[생각을 안 하다]\n4. (가능성을) 잊다[체념하다]\n5. 정신없는 짓을 하다\n"
     ]
    }
   ],
   "source": [
    "import re\n",
    "meanings = driver.find_elements_by_css_selector('span.mean')\n",
    "nums = driver.find_elements_by_css_selector('#content > div.article._article.is-closed > div.section.section_mean._section_mean._data_index_1 > div > div.mean_tray > ul > li > div.mean_desc > span')\n",
    "idx =0\n",
    "for num, mean in zip(nums, meanings):\n",
    "    mean = mean.get_attribute('innerHTML')\n",
    "    mean = mean.strip()\n",
    "    mean1=re.sub(r'(\\<.*?\\>)', '', mean)\n",
    "    numtxt = num.get_attribute('innerHTML')\n",
    "    numtxt = numtxt.strip()\n",
    "    if numtxt == '1.':\n",
    "        proN = proNs[idx].get_attribute('innerHTML')\n",
    "        idx+=1\n",
    "        proN = proN.strip('\\n\\t')\n",
    "        print(proN)\n",
    "    print(numtxt, mean1)"
   ]
  },
  {
   "cell_type": "code",
   "execution_count": 9,
   "metadata": {},
   "outputs": [
    {
     "output_type": "stream",
     "name": "stdout",
     "text": [
      "[<selenium.webdriver.remote.webelement.WebElement (session=\"26d07107a5a96c2e5bded065e400d289\", element=\"06ff0a99-be85-4ca9-a64c-cdf96b279942\")>, <selenium.webdriver.remote.webelement.WebElement (session=\"26d07107a5a96c2e5bded065e400d289\", element=\"a6fde0d4-a687-4fec-afea-a0ef4754e378\")>, <selenium.webdriver.remote.webelement.WebElement (session=\"26d07107a5a96c2e5bded065e400d289\", element=\"91f04029-0b26-4759-a55d-613e7a095f3d\")>, <selenium.webdriver.remote.webelement.WebElement (session=\"26d07107a5a96c2e5bded065e400d289\", element=\"b8a75ea9-b656-477b-a6a4-4909aac53d0a\")>, <selenium.webdriver.remote.webelement.WebElement (session=\"26d07107a5a96c2e5bded065e400d289\", element=\"0ecfac36-c82c-424a-8ffd-bef48f61ef8b\")>]\n"
     ]
    }
   ],
   "source": [
    "print(meanings)"
   ]
  },
  {
   "cell_type": "code",
   "execution_count": 13,
   "metadata": {},
   "outputs": [
    {
     "output_type": "stream",
     "name": "stdout",
     "text": [
      "\n\t\t\t\t\t\t\t\t\t\t<!-- 正常的编号显示方式 -->\n\t\t\t\t\t\t\t\t\t\t\t <!-- 有一个或二个释义等级 -->\n\t\t\t\t\t\t\t\t\t\t\t\t\t\t<span class=\"num a\">1.</span>\n\t\t\t\t\t\t\t\t\t\t<div class=\"cont\">\n\t\t\t\t\t\t\t\t\t\t\t<!-- 显示collocate_content&mean_property ..... BTS:DICNGDSUS-34029 -->\n\t\t\t\t\t\t\t\t\t\t\t<span class=\"mean_addition\" lang=\"en\">[보통 진행형으로는 쓰이지 않음]</span>\n\t\t\t\t\t\t\t\t\t\t\t<!-- 只有英语词典这样， 如果上边任何一个有值，释义前面需要加换行 -->\n\t\t\t\t\t\t\t\t\t\t\t\t<br>\n\t\t\t\t\t\t\t\t\t\t\t<span class=\"mean\" lang=\"en\" style=\"-webkit-tap-highlight-color: rgba(0,0,0,0)\">(과거의 일<span data-type=\"ore\" data-lang=\"en\">·</span>전에 알고 있던 것을) 잊다</span>\n\t\t\t\t\t\t\t\t\t\t\t\n\t\t\t\t\t\t\t\t\t\t</div>\n\t\t\t\t\t\t\t\t\t\n\n\t\t\t\t\t\t\t\t\t\t<!-- 正常的编号显示方式 -->\n\t\t\t\t\t\t\t\t\t\t\t <!-- 有一个或二个释义等级 -->\n\t\t\t\t\t\t\t\t\t\t\t\t\t\t<span class=\"num a\">2.</span>\n\t\t\t\t\t\t\t\t\t\t<div class=\"cont\">\n\t\t\t\t\t\t\t\t\t\t\t<!-- 显示collocate_content&mean_property ..... BTS:DICNGDSUS-34029 -->\n\t\t\t\t\t\t\t\t\t\t\t<!-- 只有英语词典这样， 如果上边任何一个有值，释义前面需要加换行 -->\n\t\t\t\t\t\t\t\t\t\t\t<span class=\"mean\" lang=\"en\" style=\"-webkit-tap-highlight-color: rgba(0,0,0,0)\">(할 일<span data-type=\"ore\" data-lang=\"en\">·</span>살 것<span data-type=\"ore\" data-lang=\"en\">·</span>가져올 것 등을) 잊어버리다[잊고 안 하다<span data-type=\"ore\" data-lang=\"en\">/</span>사다<span data-type=\"ore\" data-lang=\"en\">/</span>가져오다 등]</span>\n\t\t\t\t\t\t\t\t\t\t\t\n\t\t\t\t\t\t\t\t\t\t</div>\n\t\t\t\t\t\t\t\t\t\n\n\t\t\t\t\t\t\t\t\t\t<!-- 正常的编号显示方式 -->\n\t\t\t\t\t\t\t\t\t\t\t <!-- 有一个或二个释义等级 -->\n\t\t\t\t\t\t\t\t\t\t\t\t\t\t<span class=\"num a\">3.</span>\n\t\t\t\t\t\t\t\t\t\t<div class=\"cont\">\n\t\t\t\t\t\t\t\t\t\t\t<!-- 显示collocate_content&mean_property ..... BTS:DICNGDSUS-34029 -->\n\t\t\t\t\t\t\t\t\t\t\t<!-- 只有英语词典这样， 如果上边任何一个有值，释义前面需要加换行 -->\n\t\t\t\t\t\t\t\t\t\t\t<span class=\"mean\" lang=\"en\" style=\"-webkit-tap-highlight-color: rgba(0,0,0,0)\">(일부러) 잊다[생각을 안 하다]</span>\n\t\t\t\t\t\t\t\t\t\t\t\n\t\t\t\t\t\t\t\t\t\t</div>\n\t\t\t\t\t\t\t\t\t\n\n\t\t\t\t\t\t\t\t\t\t<!-- 正常的编号显示方式 -->\n\t\t\t\t\t\t\t\t\t\t\t <!-- 有一个或二个释义等级 -->\n\t\t\t\t\t\t\t\t\t\t\t\t\t\t<span class=\"num a\">4.</span>\n\t\t\t\t\t\t\t\t\t\t<div class=\"cont\">\n\t\t\t\t\t\t\t\t\t\t\t<!-- 显示collocate_content&mean_property ..... BTS:DICNGDSUS-34029 -->\n\t\t\t\t\t\t\t\t\t\t\t<!-- 只有英语词典这样， 如果上边任何一个有值，释义前面需要加换行 -->\n\t\t\t\t\t\t\t\t\t\t\t<span class=\"mean\" lang=\"en\" style=\"-webkit-tap-highlight-color: rgba(0,0,0,0)\">(가능성을) 잊다[체념하다]</span>\n\t\t\t\t\t\t\t\t\t\t\t\n\t\t\t\t\t\t\t\t\t\t</div>\n\t\t\t\t\t\t\t\t\t\n\n\t\t\t\t\t\t\t\t\t\t<!-- 正常的编号显示方式 -->\n\t\t\t\t\t\t\t\t\t\t\t <!-- 有一个或二个释义等级 -->\n\t\t\t\t\t\t\t\t\t\t\t\t\t\t<span class=\"num a\">5.</span>\n\t\t\t\t\t\t\t\t\t\t<div class=\"cont\">\n\t\t\t\t\t\t\t\t\t\t\t\t<em class=\"part_speech\" lang=\"en\">타동사</em>\n\t\t\t\t\t\t\t\t\t\t\t<!-- 显示collocate_content&mean_property ..... BTS:DICNGDSUS-34029 -->\n\t\t\t\t\t\t\t\t\t\t\t<span class=\"mean_addition\" lang=\"en\">[VN]</span>\n\t\t\t\t\t\t\t\t\t\t\t<!-- 只有英语词典这样， 如果上边任何一个有值，释义前面需要加换行 -->\n\t\t\t\t\t\t\t\t\t\t\t\t<br>\n\t\t\t\t\t\t\t\t\t\t\t<span class=\"mean\" lang=\"en\" style=\"-webkit-tap-highlight-color: rgba(0,0,0,0)\">정신없는 짓을 하다</span>\n\t\t\t\t\t\t\t\t\t\t\t\n\t\t\t\t\t\t\t\t\t\t</div>\n\t\t\t\t\t\t\t\t\t\n"
     ]
    }
   ],
   "source": [
    "meanlist = driver.find_elements_by_css_selector('div.mean_desc')\n",
    "for doc in meanlist:\n",
    "    x=doc.get_attribute('innerHTML')\n",
    "    print(x)\n",
    " "
   ]
  },
  {
   "cell_type": "code",
   "execution_count": 36,
   "metadata": {},
   "outputs": [
    {
     "output_type": "stream",
     "name": "stdout",
     "text": [
      "1.\n[보통 진행형으로는 쓰이지 않음]\n1.\n[VN]\n"
     ]
    }
   ],
   "source": [
    "meanlist = driver.find_elements_by_css_selector('div.mean_desc')\n",
    "for doc in meanlist:\n",
    "    # x=doc.get_attribute('innerHTML')\n",
    "    # print(type(doc))\n",
    "    x=doc.find_elements_by_css_selector('span.mean_addition')\n",
    "    for i in x:\n",
    "        parentsi = i.parent\n",
    "        e=parentsi.find_element(By.CSS_SELECTOR,'div.mean_desc > span')\n",
    "        f=e.get_attribute('innerHTML')\n",
    "        print(f)\n",
    "        # print(e)\n",
    "        y = i.get_attribute('innerHTML')\n",
    "        print(y)"
   ]
  },
  {
   "cell_type": "code",
   "execution_count": null,
   "metadata": {},
   "outputs": [],
   "source": []
  }
 ]
}